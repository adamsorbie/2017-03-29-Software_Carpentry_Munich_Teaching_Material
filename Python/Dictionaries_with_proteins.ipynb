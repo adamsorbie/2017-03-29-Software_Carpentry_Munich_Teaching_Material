{
 "cells": [
  {
   "cell_type": "code",
   "execution_count": 2,
   "metadata": {
    "collapsed": false
   },
   "outputs": [
    {
     "data": {
      "text/plain": [
       "{'F': 165.19, 'I': 131.1736, 'L': 131.1736, 'M': 149.2124}"
      ]
     },
     "execution_count": 2,
     "metadata": {},
     "output_type": "execute_result"
    }
   ],
   "source": [
    "# Isoleucin - I -  131.1736\n",
    "# Methionin - M -  149.2124\n",
    "# Phenylalanin - F - 165.1900\n",
    "# Leucine - L - 131.1736\n",
    "\n",
    "amino_acids_and_weights = {\"I\": 131.1736, \n",
    "                       \"M\": 149.2124, \n",
    "                       \"F\": 165.1900, \n",
    "                       \"L\": 131.1736}\n",
    "amino_acids_and_weights"
   ]
  },
  {
   "cell_type": "code",
   "execution_count": 3,
   "metadata": {
    "collapsed": false
   },
   "outputs": [
    {
     "data": {
      "text/plain": [
       "592.7272"
      ]
     },
     "execution_count": 3,
     "metadata": {},
     "output_type": "execute_result"
    }
   ],
   "source": [
    "protein = \"ILFF\"\n",
    "amino_acids_and_weights[\"I\"] + amino_acids_and_weights[\"L\"] + amino_acids_and_weights[\"F\"] + amino_acids_and_weights[\"F\"] "
   ]
  },
  {
   "cell_type": "code",
   "execution_count": 4,
   "metadata": {
    "collapsed": false
   },
   "outputs": [
    {
     "name": "stdout",
     "output_type": "stream",
     "text": [
      "I\n",
      "L\n",
      "F\n",
      "F\n"
     ]
    }
   ],
   "source": [
    "for amino_acid in protein:\n",
    "    print(amino_acid)"
   ]
  },
  {
   "cell_type": "code",
   "execution_count": 5,
   "metadata": {
    "collapsed": false
   },
   "outputs": [
    {
     "name": "stdout",
     "output_type": "stream",
     "text": [
      "I 131.1736\n",
      "L 131.1736\n",
      "F 165.19\n",
      "F 165.19\n"
     ]
    }
   ],
   "source": [
    "for amino_acid in protein:\n",
    "    print(amino_acid, amino_acids_and_weights[amino_acid])"
   ]
  },
  {
   "cell_type": "code",
   "execution_count": 7,
   "metadata": {
    "collapsed": false
   },
   "outputs": [
    {
     "name": "stdout",
     "output_type": "stream",
     "text": [
      "592.7272\n"
     ]
    }
   ],
   "source": [
    "protein_weight = 0.0\n",
    "for amino_acid in protein:\n",
    "    current_aa_weight = amino_acids_and_weights[amino_acid]\n",
    "    # protein_weight = protein_weight + current_aa_weight\n",
    "    protein_weight += current_aa_weight\n",
    "print(protein_weight)"
   ]
  },
  {
   "cell_type": "code",
   "execution_count": 11,
   "metadata": {
    "collapsed": false
   },
   "outputs": [
    {
     "ename": "KeyError",
     "evalue": "'A'",
     "output_type": "error",
     "traceback": [
      "\u001b[0;31m---------------------------------------------------------------------------\u001b[0m",
      "\u001b[0;31mKeyError\u001b[0m                                  Traceback (most recent call last)",
      "\u001b[0;32m<ipython-input-11-c63acba64771>\u001b[0m in \u001b[0;36m<module>\u001b[0;34m()\u001b[0m\n\u001b[1;32m      3\u001b[0m \u001b[0mprotein\u001b[0m \u001b[0;34m=\u001b[0m \u001b[0;34m\"ILFFA\"\u001b[0m\u001b[0;34m\u001b[0m\u001b[0m\n\u001b[1;32m      4\u001b[0m \u001b[0;32mfor\u001b[0m \u001b[0mamino_acid\u001b[0m \u001b[0;32min\u001b[0m \u001b[0mprotein\u001b[0m\u001b[0;34m:\u001b[0m\u001b[0;34m\u001b[0m\u001b[0m\n\u001b[0;32m----> 5\u001b[0;31m     \u001b[0mcurrent_aa_weight\u001b[0m \u001b[0;34m=\u001b[0m \u001b[0mamino_acids_and_weights\u001b[0m\u001b[0;34m[\u001b[0m\u001b[0mamino_acid\u001b[0m\u001b[0;34m]\u001b[0m\u001b[0;34m\u001b[0m\u001b[0m\n\u001b[0m\u001b[1;32m      6\u001b[0m     \u001b[0;31m# protein_weight = protein_weight + current_aa_weight\u001b[0m\u001b[0;34m\u001b[0m\u001b[0;34m\u001b[0m\u001b[0m\n\u001b[1;32m      7\u001b[0m     \u001b[0mprotein_weight\u001b[0m \u001b[0;34m+=\u001b[0m \u001b[0mcurrent_aa_weight\u001b[0m\u001b[0;34m\u001b[0m\u001b[0m\n",
      "\u001b[0;31mKeyError\u001b[0m: 'A'"
     ]
    }
   ],
   "source": [
    "# What happens if we use an amino acid that is not defined in the dictionary\n",
    "protein_weight = 0.0\n",
    "protein = \"ILFFA\"\n",
    "for amino_acid in protein:\n",
    "    current_aa_weight = amino_acids_and_weights[amino_acid]\n",
    "    # protein_weight = protein_weight + current_aa_weight\n",
    "    protein_weight += current_aa_weight\n",
    "print(protein_weight)"
   ]
  },
  {
   "cell_type": "code",
   "execution_count": null,
   "metadata": {
    "collapsed": true
   },
   "outputs": [],
   "source": []
  }
 ],
 "metadata": {
  "anaconda-cloud": {},
  "kernelspec": {
   "display_name": "Python [conda root]",
   "language": "python",
   "name": "conda-root-py"
  },
  "language_info": {
   "codemirror_mode": {
    "name": "ipython",
    "version": 3
   },
   "file_extension": ".py",
   "mimetype": "text/x-python",
   "name": "python",
   "nbconvert_exporter": "python",
   "pygments_lexer": "ipython3",
   "version": "3.5.2"
  }
 },
 "nbformat": 4,
 "nbformat_minor": 1
}
