{
 "cells": [
  {
   "cell_type": "markdown",
   "metadata": {},
   "source": [
    "# Programming in Python"
   ]
  },
  {
   "cell_type": "markdown",
   "metadata": {},
   "source": [
    "## Session 1"
   ]
  },
  {
   "cell_type": "markdown",
   "metadata": {},
   "source": [
    "### Aim of the Session\n",
    "Learn/review the basics\n",
    "- what is ...\n",
    "- how to ..."
   ]
  },
  {
   "cell_type": "markdown",
   "metadata": {},
   "source": [
    "### 'Hello World!'"
   ]
  },
  {
   "cell_type": "code",
   "execution_count": 1,
   "metadata": {
    "collapsed": false
   },
   "outputs": [
    {
     "name": "stdout",
     "output_type": "stream",
     "text": [
      "Hello world!\n"
     ]
    }
   ],
   "source": [
    "# the culturally-expected introductory statement\n",
    "print(\"Hello world!\")"
   ]
  },
  {
   "cell_type": "code",
   "execution_count": null,
   "metadata": {
    "collapsed": true
   },
   "outputs": [],
   "source": [
    "# an example of what you can achieve with Python in just a few lines\n"
   ]
  },
  {
   "cell_type": "markdown",
   "metadata": {},
   "source": [
    "### Literals"
   ]
  },
  {
   "cell_type": "markdown",
   "metadata": {},
   "source": [
    "Values of a _type_, presented literally"
   ]
  },
  {
   "cell_type": "code",
   "execution_count": 4,
   "metadata": {
    "collapsed": false
   },
   "outputs": [
    {
     "name": "stdout",
     "output_type": "stream",
     "text": [
      "2.016\n",
      "0.0001\n",
      "0.54\n"
     ]
    }
   ],
   "source": [
    "# example        name       type designation\n",
    "42             # integer    int\n",
    "2.016          # float      float*\n",
    "\"Homo sapiens\" # string     str\n",
    "\n",
    "print(2.016)\n",
    "print(1.0e-4)\n",
    "print(.54)"
   ]
  },
  {
   "cell_type": "markdown",
   "metadata": {},
   "source": [
    "- int: whole numbers e.g. 1, 1000, 6000000000\n",
    "- float: 'floating point' non-whole numbers e.g. 1.9, 30.01, 10e3, 1e-3\n",
    "- string: ordered sequence of characters, enclosed in quotation marks (single, double, _triple_)"
   ]
  },
  {
   "cell_type": "code",
   "execution_count": 6,
   "metadata": {
    "collapsed": false
   },
   "outputs": [
    {
     "name": "stdout",
     "output_type": "stream",
     "text": [
      "1.31\n",
      "-42\n"
     ]
    }
   ],
   "source": [
    "# type conversions\n",
    "print(float(\"1.31\"))\n",
    "print(int(\"-42\"))"
   ]
  },
  {
   "cell_type": "markdown",
   "metadata": {},
   "source": [
    "#### Aside - Comments\n",
    "\n",
    "Comments are preceded by a **#**, and are completely ignored by the python interpreter. \n",
    "Comments can be on their own line or after a line of code.\n",
    "\n",
    "Comments are an incredibly useful way to keep track of what you are doing in\n",
    "your code. Use comments to document what you do as much as possible, it will\n",
    "pay off in the long run.\n"
   ]
  },
  {
   "cell_type": "markdown",
   "metadata": {},
   "source": [
    "### Exercises 1"
   ]
  },
  {
   "cell_type": "code",
   "execution_count": 7,
   "metadata": {
    "collapsed": false
   },
   "outputs": [
    {
     "name": "stdout",
     "output_type": "stream",
     "text": [
      "this a string\n"
     ]
    }
   ],
   "source": [
    "# print some strings\n",
    "print(\"this a string\")"
   ]
  },
  {
   "cell_type": "code",
   "execution_count": 8,
   "metadata": {
    "collapsed": false
   },
   "outputs": [
    {
     "name": "stdout",
     "output_type": "stream",
     "text": [
      "42\n",
      "3.14\n"
     ]
    }
   ],
   "source": [
    "# print some numbers (ints or floats)\n",
    "print(42)\n",
    "print(3.14)"
   ]
  },
  {
   "cell_type": "code",
   "execution_count": 19,
   "metadata": {
    "collapsed": false
   },
   "outputs": [
    {
     "name": "stdout",
     "output_type": "stream",
     "text": [
      "This is a number: 3.14\n",
      "This a long string\n",
      "This a number: 4\n"
     ]
    }
   ],
   "source": [
    "# print multiple values of different types all at once\n",
    "#   (hints: use comma to separate values with a space, or + to join strings)\n",
    "print(\"This is a number:\", 3.14)\n",
    "print(\"This a \" + \"long string\")\n",
    "print(\"This a number: \" + str(4))"
   ]
  },
  {
   "cell_type": "code",
   "execution_count": 17,
   "metadata": {
    "collapsed": false
   },
   "outputs": [
    {
     "name": "stdout",
     "output_type": "stream",
     "text": [
      "This a string with a quote \" mark\n",
      "This is a \" string\n",
      "This a string\n",
      "over more than one lines\n"
     ]
    }
   ],
   "source": [
    "# print a string containing quote marks\n",
    "print(\"This a string with a quote \\\" mark\")\n",
    "\n",
    "print('This is a \" string')\n",
    "print(\"\"\"This a string\n",
    "over more than one lines\"\"\")"
   ]
  },
  {
   "cell_type": "markdown",
   "metadata": {},
   "source": [
    "### Operators & Operands"
   ]
  },
  {
   "cell_type": "markdown",
   "metadata": {},
   "source": [
    "Using Python as a calculator: `+`, `-`, `/`, `*` etc are _operators_, the values/variables that they work on are _operands_."
   ]
  },
  {
   "cell_type": "code",
   "execution_count": 25,
   "metadata": {
    "collapsed": false
   },
   "outputs": [
    {
     "name": "stdout",
     "output_type": "stream",
     "text": [
      "7\n",
      "-1\n",
      "6.28\n",
      "2.6666666666666665\n",
      "256\n",
      "5\n"
     ]
    }
   ],
   "source": [
    "# standard mathematical operations can be performed in Python\n",
    "print(3+4)\n",
    "print(4-5)\n",
    "print(3.14 * 2)\n",
    "print(8 / 3)\n",
    "\n",
    "# and some less common ones\n",
    "print(2 ** 8)\n",
    "print(35 % 10)"
   ]
  },
  {
   "cell_type": "markdown",
   "metadata": {},
   "source": [
    "_Note: check out numpy, scipy, stats modules if you want to do a lot of maths_"
   ]
  },
  {
   "cell_type": "markdown",
   "metadata": {},
   "source": [
    "### Variables"
   ]
  },
  {
   "cell_type": "markdown",
   "metadata": {},
   "source": [
    "Store values (information) in memory, and (re-)use them. We give variables names (identifiers) so that we have a means of referring to the information on demand."
   ]
  },
  {
   "cell_type": "code",
   "execution_count": 33,
   "metadata": {
    "collapsed": false
   },
   "outputs": [
    {
     "name": "stdout",
     "output_type": "stream",
     "text": [
      "3.14\n",
      "72\n",
      "47\n",
      "118\n"
     ]
    }
   ],
   "source": [
    "# variable assignment is done with '='\n",
    "my_variable = 3.14\n",
    "print(my_variable)\n",
    "my_variable = 72\n",
    "print(my_variable)\n",
    "my_variable = 71\n",
    "\n",
    "another_variable = 12 + 35\n",
    "print(another_variable)\n",
    "\n",
    "yet_another_variable = my_variable + another_variable\n",
    "print(yet_another_variable)"
   ]
  },
  {
   "cell_type": "code",
   "execution_count": 32,
   "metadata": {
    "collapsed": false
   },
   "outputs": [
    {
     "data": {
      "text/plain": [
       "-17"
      ]
     },
     "execution_count": 32,
     "metadata": {},
     "output_type": "execute_result"
    }
   ],
   "source": [
    "3 + 7\n",
    "2 - 19"
   ]
  },
  {
   "cell_type": "code",
   "execution_count": null,
   "metadata": {
    "collapsed": true
   },
   "outputs": [],
   "source": []
  },
  {
   "cell_type": "markdown",
   "metadata": {},
   "source": [
    "#### Variable naming\n",
    "Rules:\n",
    "\n",
    "- identifier lookup is case-sensitive\n",
    "  - `myname` & `MyName` are different\n",
    "- must be unique in your working environment\n",
    "  - existing variable will be __over-written without warning__\n",
    "- cannot start with a number, or any special symbol (e.g. $, %, @, -, etc...) except for \"_\" (underscore), which is OK.\n",
    "- cannot have any spaces or special characters (except for \"_\" (underscore))\n",
    "\n",
    "Conventions/good practice:\n",
    "\n",
    "- identifiers (usually) begin with a lowercase letter\n",
    "- followed by letters, numbers, underscores\n",
    "- use a strategy to make reading easier\n",
    "  - `myName`\n",
    "  - `exciting_variable`\n",
    "- long, descriptive > short, vague"
   ]
  },
  {
   "cell_type": "markdown",
   "metadata": {},
   "source": [
    "### String Formatting\n",
    "Create formatted strings, with variable values substituted in."
   ]
  },
  {
   "cell_type": "code",
   "execution_count": 34,
   "metadata": {
    "collapsed": false
   },
   "outputs": [
    {
     "name": "stdout",
     "output_type": "stream",
     "text": [
      "Florence is 73 years old\n",
      "Florence is 73 years old\n"
     ]
    }
   ],
   "source": [
    "# two ways to do it in Python\n",
    "name = 'Florence'\n",
    "age = 73\n",
    "print('%s is %d years old' % (name, age)) # common amongst many programming languages\n",
    "\n",
    "print('{} is {} years old'.format(name, age)) # perhaps more consistent with stardard Python syntax"
   ]
  },
  {
   "cell_type": "markdown",
   "metadata": {},
   "source": [
    "There is a long list of possible format options for numbers: https://pyformat.info/"
   ]
  },
  {
   "cell_type": "markdown",
   "metadata": {},
   "source": [
    "### Data Structures"
   ]
  },
  {
   "cell_type": "markdown",
   "metadata": {},
   "source": [
    "Programming generally requires building/working with much larger and more complex sets of data than the single values/words/sentences that we have looked at so far. In fact, finding ways to operate effectively (and efficiently) on complex structures in order to extract/produce information, _is_ (data) programming.\n",
    "\n",
    "Python has two most commonly-used structures for storing multiple pieces of data - _lists_ and _dictionaries_. Let's look at these, and a few more, now."
   ]
  },
  {
   "cell_type": "markdown",
   "metadata": {},
   "source": [
    "#### Lists"
   ]
  },
  {
   "cell_type": "code",
   "execution_count": 42,
   "metadata": {
    "collapsed": false
   },
   "outputs": [
    {
     "name": "stdout",
     "output_type": "stream",
     "text": [
      "[2, 5, 7, 9]\n",
      "[4.5, 3.1, 7.8]\n",
      "[1, 2, 'abc', 'cde']\n",
      "1\n",
      "6\n",
      "[1, 2, 6]\n",
      "[2, 6, 'abc']\n"
     ]
    }
   ],
   "source": [
    "# sequence of entries, in order and of any type\n",
    "print([2, 5, 7, 9])\n",
    "print([4.5, 3.1, 7.8])\n",
    "print([1, 2, 'abc', 'cde'])\n",
    "\n",
    "my_list = [1, 2, 6, 'abc', 'cdef']\n",
    "# accessing list entries\n",
    "print(my_list[0])\n",
    "print(my_list[2])\n",
    "print(my_list[0:3])\n",
    "print(my_list[1:4])\n",
    "\n",
    "# adding/removing entries (remove/pop)\n",
    "\n",
    "# length of list"
   ]
  },
  {
   "cell_type": "code",
   "execution_count": 53,
   "metadata": {
    "collapsed": false
   },
   "outputs": [
    {
     "name": "stdout",
     "output_type": "stream",
     "text": [
      "[1, 5, 7]\n",
      "[1, 5, 7, 10]\n",
      "[1, 7, 10]\n",
      "3\n"
     ]
    }
   ],
   "source": [
    "my_list = [1, 5, 7]\n",
    "print(my_list)\n",
    "my_list.append(10)\n",
    "print(my_list)\n",
    "\n",
    "my_list.remove(5)\n",
    "print(my_list)\n",
    "\n",
    "print(len(my_list))"
   ]
  },
  {
   "cell_type": "code",
   "execution_count": 45,
   "metadata": {
    "collapsed": false
   },
   "outputs": [
    {
     "name": "stdout",
     "output_type": "stream",
     "text": [
      "cdef\n",
      "[6, 'abc', 'cdef']\n"
     ]
    }
   ],
   "source": [
    "my_list = [1, 2, 6, 'abc', 'cdef']\n",
    "print(my_list[-1])\n",
    "print(my_list[-3:])"
   ]
  },
  {
   "cell_type": "code",
   "execution_count": 49,
   "metadata": {
    "collapsed": false,
    "scrolled": true
   },
   "outputs": [
    {
     "name": "stdout",
     "output_type": "stream",
     "text": [
      "[1, 1, 2, 4, 7, 7, 2]\n",
      "{1, 2, 4, 7}\n"
     ]
    }
   ],
   "source": [
    "# sets\n",
    "my_list = [1, 1, 2, 4, 7, 7, 2]\n",
    "print(my_list)\n",
    "my_set = set(my_list)\n",
    "print(my_set)"
   ]
  },
  {
   "cell_type": "markdown",
   "metadata": {},
   "source": [
    "#### Objects, Methods, and How To Get Help"
   ]
  },
  {
   "cell_type": "markdown",
   "metadata": {},
   "source": [
    "In Python, everything is an _object_ - some value(s), packaged up with a set of things that can be done with/to it (___methods___), and pieces of information about it (___attributes___). This makes it very easy to perform the most commonly-needed operations for that/those type of value(s). The language has a standard syntax for accessing methods:"
   ]
  },
  {
   "cell_type": "code",
   "execution_count": 58,
   "metadata": {
    "collapsed": false
   },
   "outputs": [
    {
     "name": "stdout",
     "output_type": "stream",
     "text": [
      "THE COLD NEVER BOTHERED ME ANYWAY\n",
      "the cold never bothered me anyway\n",
      "THE COLD NEVER BOTHERED ME ANYWAY\n",
      "The cold never bothered me anyway\n"
     ]
    }
   ],
   "source": [
    "string_object = 'the cold never bothered me anyway'\n",
    "# methods - object.something()\n",
    "print(string_object.upper())\n",
    "print(string_object)\n",
    "\n",
    "another_string = string_object.upper()\n",
    "print(another_string)\n",
    "# more...\n",
    "print(string_object.capitalize())"
   ]
  },
  {
   "cell_type": "code",
   "execution_count": 61,
   "metadata": {
    "collapsed": false
   },
   "outputs": [
    {
     "name": "stdout",
     "output_type": "stream",
     "text": [
      "Help on built-in function replace:\n",
      "\n",
      "replace(...) method of builtins.str instance\n",
      "    S.replace(old, new[, count]) -> str\n",
      "    \n",
      "    Return a copy of S with all occurrences of substring\n",
      "    old replaced by new.  If the optional argument count is\n",
      "    given, only the first count occurrences are replaced.\n",
      "\n"
     ]
    }
   ],
   "source": [
    "help(string_object.replace)"
   ]
  },
  {
   "cell_type": "code",
   "execution_count": 65,
   "metadata": {
    "collapsed": false
   },
   "outputs": [
    {
     "data": {
      "text/plain": [
       "'tha cold naver bothered me anyway'"
      ]
     },
     "execution_count": 65,
     "metadata": {},
     "output_type": "execute_result"
    }
   ],
   "source": [
    "string_object.replace(\"e\", \"a\", 2)"
   ]
  },
  {
   "cell_type": "code",
   "execution_count": null,
   "metadata": {
    "collapsed": false
   },
   "outputs": [],
   "source": [
    "# dir() and help()"
   ]
  },
  {
   "cell_type": "markdown",
   "metadata": {},
   "source": [
    "### Exercises 2"
   ]
  },
  {
   "cell_type": "code",
   "execution_count": 66,
   "metadata": {
    "collapsed": false
   },
   "outputs": [
    {
     "name": "stdout",
     "output_type": "stream",
     "text": [
      "['Sandy', 'Pete', 'Richard', 'Rebecca', 'Sally']\n"
     ]
    }
   ],
   "source": [
    "# add 'Sally' to the list of students' names\n",
    "student_names = ['Sandy', 'Pete', 'Richard', 'Rebecca']\n",
    "student_names.append(\"Sally\")\n",
    "print(student_names)"
   ]
  },
  {
   "cell_type": "code",
   "execution_count": 68,
   "metadata": {
    "collapsed": false
   },
   "outputs": [
    {
     "name": "stdout",
     "output_type": "stream",
     "text": [
      "Rebecca\n"
     ]
    },
    {
     "ename": "IndexError",
     "evalue": "list index out of range",
     "output_type": "error",
     "traceback": [
      "\u001b[0;31m---------------------------------------------------------------------------\u001b[0m",
      "\u001b[0;31mIndexError\u001b[0m                                Traceback (most recent call last)",
      "\u001b[0;32m<ipython-input-68-ced2e6029641>\u001b[0m in \u001b[0;36m<module>\u001b[0;34m()\u001b[0m\n\u001b[1;32m      1\u001b[0m \u001b[0;31m# access the fourth entry of the list\u001b[0m\u001b[0;34m\u001b[0m\u001b[0;34m\u001b[0m\u001b[0m\n\u001b[1;32m      2\u001b[0m \u001b[0mprint\u001b[0m\u001b[0;34m(\u001b[0m\u001b[0mstudent_names\u001b[0m\u001b[0;34m[\u001b[0m\u001b[0;36m3\u001b[0m\u001b[0;34m]\u001b[0m\u001b[0;34m)\u001b[0m\u001b[0;34m\u001b[0m\u001b[0m\n\u001b[0;32m----> 3\u001b[0;31m \u001b[0mprint\u001b[0m\u001b[0;34m(\u001b[0m\u001b[0mstudent_names\u001b[0m\u001b[0;34m[\u001b[0m\u001b[0;36m10\u001b[0m\u001b[0;34m]\u001b[0m\u001b[0;34m)\u001b[0m\u001b[0;34m\u001b[0m\u001b[0m\n\u001b[0m",
      "\u001b[0;31mIndexError\u001b[0m: list index out of range"
     ]
    }
   ],
   "source": [
    "# access the fourth entry of the list\n",
    "print(student_names[3])\n",
    "print(student_names[10])"
   ]
  },
  {
   "cell_type": "code",
   "execution_count": 69,
   "metadata": {
    "collapsed": false
   },
   "outputs": [
    {
     "name": "stdout",
     "output_type": "stream",
     "text": [
      "['Sandy', 'Pete', 'Richard', 'Rebecca', 'Sally', 'Sam', 'Fiona', 'Sarah', 'Richard', 'Sarah', 'Matthew']\n"
     ]
    }
   ],
   "source": [
    "# join the list with a new list from another class\n",
    "other_student_names = ['Sam', 'Fiona', 'Sarah', 'Richard', 'Sarah', 'Matthew']\n",
    "\n",
    "combined_names = student_names + other_student_names\n",
    "print(combined_names)"
   ]
  },
  {
   "cell_type": "code",
   "execution_count": 71,
   "metadata": {
    "collapsed": false
   },
   "outputs": [],
   "source": [
    "student_names = student_names + other_student_names"
   ]
  },
  {
   "cell_type": "code",
   "execution_count": null,
   "metadata": {
    "collapsed": true
   },
   "outputs": [],
   "source": []
  },
  {
   "cell_type": "code",
   "execution_count": 72,
   "metadata": {
    "collapsed": false
   },
   "outputs": [
    {
     "name": "stdout",
     "output_type": "stream",
     "text": [
      "[1, 2, 3]\n"
     ]
    }
   ],
   "source": [
    "my_list = [1, 2]\n",
    "my_list.append(3)\n",
    "print(my_list)"
   ]
  },
  {
   "cell_type": "code",
   "execution_count": 75,
   "metadata": {
    "collapsed": false
   },
   "outputs": [
    {
     "name": "stdout",
     "output_type": "stream",
     "text": [
      "A STRING\n"
     ]
    }
   ],
   "source": [
    "my_string = \"a string\"\n",
    "my_string = my_string.upper()\n",
    "print(my_string)"
   ]
  },
  {
   "cell_type": "code",
   "execution_count": 76,
   "metadata": {
    "collapsed": false
   },
   "outputs": [
    {
     "name": "stdout",
     "output_type": "stream",
     "text": [
      "Help on built-in function upper:\n",
      "\n",
      "upper(...) method of builtins.str instance\n",
      "    S.upper() -> str\n",
      "    \n",
      "    Return a copy of S converted to uppercase.\n",
      "\n"
     ]
    }
   ],
   "source": [
    "help(my_string.upper)"
   ]
  },
  {
   "cell_type": "code",
   "execution_count": 80,
   "metadata": {
    "collapsed": false
   },
   "outputs": [
    {
     "name": "stdout",
     "output_type": "stream",
     "text": [
      "['Fiona', 'Matthew', 'Pete', 'Rebecca', 'Richard', 'Richard', 'Sally', 'Sam', 'Sandy', 'Sarah', 'Sarah']\n"
     ]
    }
   ],
   "source": [
    "\n",
    "print(sorted(student_names))"
   ]
  },
  {
   "cell_type": "markdown",
   "metadata": {},
   "source": [
    "#### Dictionaries"
   ]
  },
  {
   "cell_type": "code",
   "execution_count": 86,
   "metadata": {
    "collapsed": true
   },
   "outputs": [],
   "source": [
    "# collection of paired information - keys and values\n",
    "student_marks = {'Alessio': 67, 'Nic': 48, 'Georg': 68}\n",
    "\n",
    "empty_dict         = {}\n",
    "another_empty_dict = dict()\n",
    "\n",
    "# accessing dict entries\n",
    "\n",
    "# adding/changing/deleting entries\n"
   ]
  },
  {
   "cell_type": "code",
   "execution_count": 82,
   "metadata": {
    "collapsed": false
   },
   "outputs": [
    {
     "name": "stdout",
     "output_type": "stream",
     "text": [
      "{'Alessio': 26, 'Nic': 28, 'Georg': 32}\n"
     ]
    }
   ],
   "source": [
    "student_age = {'Alessio': 26, 'Nic': 28, 'Georg': 32}\n",
    "print(student_age)"
   ]
  },
  {
   "cell_type": "code",
   "execution_count": 83,
   "metadata": {
    "collapsed": false
   },
   "outputs": [
    {
     "name": "stdout",
     "output_type": "stream",
     "text": [
      "{1: 'a', 2: 'c', 3: 'e'}\n"
     ]
    }
   ],
   "source": [
    "another_dict = {1: 'a', 2: 'c', 3: 'e'}\n",
    "print(another_dict)"
   ]
  },
  {
   "cell_type": "code",
   "execution_count": 89,
   "metadata": {
    "collapsed": false
   },
   "outputs": [
    {
     "name": "stdout",
     "output_type": "stream",
     "text": [
      "{'Alessio': 67, 'Nic': 48, 'Georg': 68}\n",
      "48\n"
     ]
    }
   ],
   "source": [
    "print(student_marks)\n",
    "\n",
    "print(student_marks['Nic'])"
   ]
  },
  {
   "cell_type": "code",
   "execution_count": 91,
   "metadata": {
    "collapsed": false
   },
   "outputs": [
    {
     "name": "stdout",
     "output_type": "stream",
     "text": [
      "dict_keys(['Alessio', 'Nic', 'Georg'])\n",
      "dict_values([67, 48, 68])\n"
     ]
    }
   ],
   "source": [
    "print(student_marks.keys())\n",
    "print(student_marks.values())"
   ]
  },
  {
   "cell_type": "code",
   "execution_count": 93,
   "metadata": {
    "collapsed": false
   },
   "outputs": [
    {
     "name": "stdout",
     "output_type": "stream",
     "text": [
      "{'Alessio': 67, 'Nic': 48, 'Georg': 68, 'Tim': 62}\n",
      "{'Alessio': 67, 'Nic': 47, 'Georg': 68, 'Tim': 62}\n"
     ]
    }
   ],
   "source": [
    "student_marks['Tim'] = 62\n",
    "print(student_marks)\n",
    "student_marks['Nic'] = 47\n",
    "print(student_marks)"
   ]
  },
  {
   "cell_type": "code",
   "execution_count": 94,
   "metadata": {
    "collapsed": false
   },
   "outputs": [
    {
     "name": "stdout",
     "output_type": "stream",
     "text": [
      "{'Alessio': 67, 'Nic': 47, 'Georg': 68}\n"
     ]
    }
   ],
   "source": [
    "student_marks.pop('Tim')\n",
    "print(student_marks)"
   ]
  },
  {
   "cell_type": "markdown",
   "metadata": {},
   "source": [
    "#### Mutable?"
   ]
  },
  {
   "cell_type": "markdown",
   "metadata": {},
   "source": [
    "Object types can be divided into two categories - mutable & immutable. _Mutable_ objects can be changed 'in-place' - their value can be updated, added to, re-ordered etc without the need to create a whole new object every time. _Immutable_ types cannot be changed in place - once they have a value, this value cannot be altered. though, of course, it can __always__ be overwritten."
   ]
  },
  {
   "cell_type": "code",
   "execution_count": null,
   "metadata": {
    "collapsed": false
   },
   "outputs": [],
   "source": [
    "# lists are mutable\n",
    "cities = ['Nairobi', 'Vancouver', 'Wellington', 'Beijing']\n",
    "print(cities)"
   ]
  },
  {
   "cell_type": "code",
   "execution_count": null,
   "metadata": {
    "collapsed": false
   },
   "outputs": [],
   "source": [
    "# strings are immutable\n",
    "beatles = \"I'd like to be under the sea\""
   ]
  },
  {
   "cell_type": "markdown",
   "metadata": {},
   "source": [
    "### Looping"
   ]
  },
  {
   "cell_type": "markdown",
   "metadata": {},
   "source": [
    "Time for some real programming. The biggest motivation for researches to learn a programming language is the opportunity to automate repetitive tasks and analyses.\n",
    "\n",
    "For loops define a set of steps that will be carried out for all items in a sequence. The items in the sequence will be taken one-at-a-time, and the loop performed, until there are no more items to process."
   ]
  },
  {
   "cell_type": "code",
   "execution_count": 95,
   "metadata": {
    "collapsed": false
   },
   "outputs": [
    {
     "name": "stdout",
     "output_type": "stream",
     "text": [
      "Spring\n",
      "Summer\n",
      "Autumn\n",
      "Winter\n"
     ]
    }
   ],
   "source": [
    "for season in ['Spring', 'Summer', 'Autumn', 'Winter']:\n",
    "    print(season)"
   ]
  },
  {
   "cell_type": "code",
   "execution_count": 96,
   "metadata": {
    "collapsed": false
   },
   "outputs": [
    {
     "name": "stdout",
     "output_type": "stream",
     "text": [
      "1\n",
      "------\n",
      "5\n",
      "------\n",
      "87\n",
      "------\n",
      "3\n",
      "------\n"
     ]
    }
   ],
   "source": [
    "for number in [1, 5, 87, 3]:\n",
    "    print(number)\n",
    "    print(\"------\")"
   ]
  },
  {
   "cell_type": "code",
   "execution_count": 97,
   "metadata": {
    "collapsed": false
   },
   "outputs": [
    {
     "name": "stdout",
     "output_type": "stream",
     "text": [
      "P\n",
      "Y\n",
      "T\n",
      "H\n",
      "O\n",
      "N\n",
      "Finished\n"
     ]
    }
   ],
   "source": [
    "word = 'python'\n",
    "for letter in word:\n",
    "    print(letter.upper())\n",
    "\n",
    "print(\"Finished\")"
   ]
  },
  {
   "cell_type": "code",
   "execution_count": null,
   "metadata": {
    "collapsed": true
   },
   "outputs": [],
   "source": [
    "# range\n",
    "\n",
    "# zip\n",
    "# iterating through two lists simultaneously\n",
    "\n",
    "# enumerate\n"
   ]
  },
  {
   "cell_type": "code",
   "execution_count": 98,
   "metadata": {
    "collapsed": false
   },
   "outputs": [
    {
     "name": "stdout",
     "output_type": "stream",
     "text": [
      "The number is  0\n",
      "The number is  1\n",
      "The number is  2\n",
      "The number is  3\n",
      "The number is  4\n"
     ]
    }
   ],
   "source": [
    "for number in range(5):\n",
    "    print(\"The number is \", number)"
   ]
  },
  {
   "cell_type": "code",
   "execution_count": 99,
   "metadata": {
    "collapsed": false
   },
   "outputs": [
    {
     "name": "stdout",
     "output_type": "stream",
     "text": [
      "The number is 1\n",
      "The number is 2\n",
      "The number is 3\n",
      "The number is 4\n"
     ]
    }
   ],
   "source": [
    "for number in range(1,5):\n",
    "    print(\"The number is\", number)"
   ]
  },
  {
   "cell_type": "code",
   "execution_count": 100,
   "metadata": {
    "collapsed": false
   },
   "outputs": [
    {
     "name": "stdout",
     "output_type": "stream",
     "text": [
      "Name:  Sally    Grade: 46\n",
      "Name:  Linda    Grade: 52\n",
      "Name:  Tim    Grade: 45\n"
     ]
    }
   ],
   "source": [
    "names = ['Sally', 'Linda', 'Tim']\n",
    "grades = [46, 52, 45]\n",
    "for name, grade in zip(names, grades):\n",
    "    print(\"Name: \", name, \"   Grade:\", grade)"
   ]
  },
  {
   "cell_type": "code",
   "execution_count": 101,
   "metadata": {
    "collapsed": false
   },
   "outputs": [
    {
     "name": "stdout",
     "output_type": "stream",
     "text": [
      "Position 0  has name  Sally\n",
      "Position 1  has name  Linda\n",
      "Position 2  has name  Tim\n"
     ]
    }
   ],
   "source": [
    "for index, name in enumerate(names):\n",
    "    print(\"Position\", index, \" has name \", name)"
   ]
  },
  {
   "cell_type": "markdown",
   "metadata": {},
   "source": [
    "## Exercise 3: "
   ]
  },
  {
   "cell_type": "code",
   "execution_count": null,
   "metadata": {
    "collapsed": false
   },
   "outputs": [],
   "source": [
    "# calculate the mean of the elements in the list\n",
    "list_of_numbers = [1, 2, 4, 8, 3, 6, 1, 9, 10, 5]\n",
    "\n",
    "sum_of_values = ...\n",
    "for ... in list_of_numbers:\n",
    "    ... = ... + ...\n",
    "mean_value = ... / len(...)\n",
    "print(mean_value)"
   ]
  },
  {
   "cell_type": "markdown",
   "metadata": {},
   "source": [
    "### Conditionals - if, elif, else"
   ]
  },
  {
   "cell_type": "markdown",
   "metadata": {},
   "source": [
    "Looping allows you to perform a common set of operations on multiple pieces of data very quickly. But what if you want to treat the pieces differently, depending on some property or other of the objects?\n",
    "\n",
    "This is the other central part of programming: testing for certain circumstances and changing the treatment of pieces of data accordingly. It is known as _flow control_, as you are controlling the flow of data through your script of operations."
   ]
  },
  {
   "cell_type": "markdown",
   "metadata": {},
   "source": [
    "#### if - elif - else"
   ]
  },
  {
   "cell_type": "code",
   "execution_count": null,
   "metadata": {
    "collapsed": true
   },
   "outputs": [],
   "source": [
    "# use if statements to test for a condition (comparison, equality)\n",
    "\n",
    "# use else to dictate what happens when the condition isn't met\n",
    "\n",
    "# use elif to add more conditionals\n",
    "# use more than one condition check\n"
   ]
  },
  {
   "cell_type": "code",
   "execution_count": 107,
   "metadata": {
    "collapsed": false
   },
   "outputs": [
    {
     "name": "stdout",
     "output_type": "stream",
     "text": [
      "Bring a jacket\n"
     ]
    }
   ],
   "source": [
    "temperature = 18\n",
    "if temperature > 20:\n",
    "    print(\"T-shirt weather\")\n",
    "else:\n",
    "    print(\"Bring a jacket\")"
   ]
  },
  {
   "cell_type": "code",
   "execution_count": 111,
   "metadata": {
    "collapsed": false
   },
   "outputs": [
    {
     "name": "stdout",
     "output_type": "stream",
     "text": [
      "Dont bring an umbrella\n"
     ]
    }
   ],
   "source": [
    "weather = 'foggy'\n",
    "if weather == 'rainy':\n",
    "    print(\"Bring an umbrella\")\n",
    "elif weather == \"sunny\":\n",
    "    print(\"Bring sunscreen\")\n",
    "else:\n",
    "    print(\"Dont bring an umbrella\")"
   ]
  },
  {
   "cell_type": "code",
   "execution_count": 112,
   "metadata": {
    "collapsed": false
   },
   "outputs": [
    {
     "name": "stdout",
     "output_type": "stream",
     "text": [
      "Bring a light jacket\n"
     ]
    }
   ],
   "source": [
    "temperature = 15\n",
    "if temperature < 20:\n",
    "    if temperature > 0:\n",
    "        print(\"Bring a light jacket\")"
   ]
  },
  {
   "cell_type": "code",
   "execution_count": null,
   "metadata": {
    "collapsed": true
   },
   "outputs": [],
   "source": [
    "temperature = 15\n",
    "if temperature < 20 and temperature > 0:\n",
    "    print(\"Bring a light jacket\")"
   ]
  },
  {
   "cell_type": "code",
   "execution_count": 114,
   "metadata": {
    "collapsed": false
   },
   "outputs": [
    {
     "name": "stdout",
     "output_type": "stream",
     "text": [
      "No sunshine\n"
     ]
    }
   ],
   "source": [
    "weather = 'foggy'\n",
    "if weather == 'foggy' or weather == 'rainy':\n",
    "    print(\"No sunshine\")"
   ]
  },
  {
   "cell_type": "code",
   "execution_count": null,
   "metadata": {
    "collapsed": true
   },
   "outputs": [],
   "source": [
    "# list comprehensions with conditionals"
   ]
  }
 ],
 "metadata": {
  "kernelspec": {
   "display_name": "Python 3",
   "language": "python",
   "name": "python3"
  },
  "language_info": {
   "codemirror_mode": {
    "name": "ipython",
    "version": 3
   },
   "file_extension": ".py",
   "mimetype": "text/x-python",
   "name": "python",
   "nbconvert_exporter": "python",
   "pygments_lexer": "ipython3",
   "version": "3.6.0"
  }
 },
 "nbformat": 4,
 "nbformat_minor": 1
}
